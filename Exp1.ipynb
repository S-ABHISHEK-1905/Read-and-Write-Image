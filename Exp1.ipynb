{
  "nbformat": 4,
  "nbformat_minor": 0,
  "metadata": {
    "colab": {
      "provenance": [],
      "authorship_tag": "ABX9TyOeDPL5t4p8qa1d4VDBoiSz",
      "include_colab_link": true
    },
    "kernelspec": {
      "name": "python3",
      "display_name": "Python 3"
    },
    "language_info": {
      "name": "python"
    }
  },
  "cells": [
    {
      "cell_type": "markdown",
      "metadata": {
        "id": "view-in-github",
        "colab_type": "text"
      },
      "source": [
        "<a href=\"https://colab.research.google.com/github/S-ABHISHEK-1905/Read-and-Write-Image/blob/main/Exp1.ipynb\" target=\"_parent\"><img src=\"https://colab.research.google.com/assets/colab-badge.svg\" alt=\"Open In Colab\"/></a>"
      ]
    },
    {
      "cell_type": "code",
      "source": [
        "import cv2\n",
        "capture=cv2.imread(\"/content/a.jpg\")\n",
        "cv2.imshow('PIC',capture)\n",
        "cv2.waitKey(0)"
      ],
      "metadata": {
        "id": "R4ctAmEXjnjA"
      },
      "execution_count": null,
      "outputs": []
    },
    {
      "cell_type": "code",
      "source": [
        "import cv2 as cv\n",
        "capture=cv.imread(\"C:/Users/abhid/Downloads/a.jpg\")\n",
        "cv.imwrite(\"photo.jpg\",capture)\n",
        "cv.imshow(\"PIC\",capture)\n",
        "cv.waitKey(0)"
      ],
      "metadata": {
        "id": "p_z0wRRxjpoB"
      },
      "execution_count": null,
      "outputs": []
    },
    {
      "cell_type": "code",
      "source": [
        "import random\n",
        "import cv2 as cv\n",
        "capture=cv.imread(\"C:/Users/abhid/Downloads/a.jpg\")\n",
        "print(capture.shape)"
      ],
      "metadata": {
        "id": "nDdSZlLCjswA"
      },
      "execution_count": null,
      "outputs": []
    },
    {
      "cell_type": "code",
      "source": [
        "import random\n",
        "import cv2 as cv\n",
        "capture=cv.imread(\"C:/Users/abhid/Downloads/a.jpg\")\n",
        "for i in range(70,90):\n",
        "    for j in range(110,170):\n",
        "        capture[i][j]=[0,0,0]\n",
        "cv.imshow(\"PIC\",capture)\n",
        "cv.waitKey(0)"
      ],
      "metadata": {
        "id": "vDEURs9Ejujc"
      },
      "execution_count": null,
      "outputs": []
    },
    {
      "cell_type": "code",
      "source": [
        "import random\n",
        "import cv2 as cv\n",
        "capture=cv.imread(\"C:/Users/abhid/Downloads/a.jpg\")\n",
        "tag=capture[100:120,110:120]\n",
        "capture[0:20,10:20]=tag\n",
        "cv.imshow(\"PIC\",capture)\n",
        "cv.waitKey(0)"
      ],
      "metadata": {
        "id": "P6eHgZUOjwFO"
      },
      "execution_count": null,
      "outputs": []
    }
  ]
}